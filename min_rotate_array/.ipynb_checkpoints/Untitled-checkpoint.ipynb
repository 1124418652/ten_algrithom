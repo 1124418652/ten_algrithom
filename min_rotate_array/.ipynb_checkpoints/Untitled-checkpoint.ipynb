{
 "cells": [
  {
   "cell_type": "markdown",
   "metadata": {},
   "source": [
    "# 问题描述\n",
    "假定一个排序数组以某个未知元素为支点做了旋转，如：原数组 0，1，2，4，5，6，7 旋转后得到 4，5，6，7，0，1，2。找出旋转后数组的最小值。假定数组中没有重复数字。"
   ]
  },
  {
   "cell_type": "markdown",
   "metadata": {},
   "source": [
    "### 问题分析\n",
    "旋转之前的数组是有序的，所以旋转之后的数组实际上可以划分为两个有序的子数组，且前面子数组的大小都大于后面子数组中的元素。实际上，最小的元素就是两个子数组的分解线。"
   ]
  },
  {
   "cell_type": "code",
   "execution_count": null,
   "metadata": {},
   "outputs": [],
   "source": [
    "def find_min_value(a):\n",
    "    low = 0\n",
    "    high = len(a) - 1\n",
    "    while low < high:\n",
    "        mid = (low + high) // 2\n",
    "        if a[mid] > a[high]:\n",
    "            low = mid + 1\n",
    "        elif a[low] < a[mid]:\n",
    "            high = mid\n",
    "    return a[mid]"
   ]
  }
 ],
 "metadata": {
  "kernelspec": {
   "display_name": "Python 3",
   "language": "python",
   "name": "python3"
  },
  "language_info": {
   "codemirror_mode": {
    "name": "ipython",
    "version": 3
   },
   "file_extension": ".py",
   "mimetype": "text/x-python",
   "name": "python",
   "nbconvert_exporter": "python",
   "pygments_lexer": "ipython3",
   "version": "3.6.8"
  }
 },
 "nbformat": 4,
 "nbformat_minor": 2
}
