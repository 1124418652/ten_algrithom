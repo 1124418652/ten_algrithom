{
 "cells": [
  {
   "cell_type": "markdown",
   "metadata": {},
   "source": [
    "## 求解迷宫的最短路径\n",
    "找迷宫的最短路径与图中找最短路径的做法一致，都是通过广度优先搜索来解决，借助辅助数据结构--队列。\n",
    "找最短路径问题和一般的通过广度优先搜索来遍历节点的问题的区别是，找路径问题的起点和终点是指点的，所以不需要依次将图的所有节点作为起始节点进行遍历。"
   ]
  },
  {
   "cell_type": "code",
   "execution_count": 2,
   "metadata": {},
   "outputs": [],
   "source": [
    "# ‘2’表示迷宫的起点，‘3’表示迷宫的重点，‘1’表示道路，‘a’表示钥匙，‘A’表示对应的锁，‘0’是墙\n",
    "maze = ['02111',\n",
    "        '01a0A',\n",
    "        '01003',\n",
    "        '01001',\n",
    "        '01111']"
   ]
  },
  {
   "cell_type": "code",
   "execution_count": 16,
   "metadata": {},
   "outputs": [
    {
     "name": "stdout",
     "output_type": "stream",
     "text": [
      "[[0, 0, 1, 2, 3], [0, 1, 0, 0, 0], [0, 2, 0, 0, 9], [0, 3, 0, 0, 8], [0, 4, 5, 6, 7]]\n",
      "最少需要走 9 步。\n"
     ]
    }
   ],
   "source": [
    "# 找迷宫的最短路径（不考虑锁的问题）\n",
    "class Node:\n",
    "    def __init__(self, row, col):\n",
    "        self._row = row\n",
    "        self._col = col\n",
    "        \n",
    "    @property\n",
    "    def row(self):\n",
    "        return self._row\n",
    "    \n",
    "    @row.setter\n",
    "    def row(self, value):\n",
    "        self._row = value\n",
    "        \n",
    "    @property\n",
    "    def col(self):\n",
    "        return self._col\n",
    "    \n",
    "    @col.setter\n",
    "    def col(self, value):\n",
    "        self._col = value\n",
    "\n",
    "def find_load(maze):\n",
    "    rows, cols = len(maze), len(maze[0])\n",
    "    drow = [0, 1, 0, -1]\n",
    "    dcol = [1, 0, -1, 0]\n",
    "    begin = Node(0, 0)\n",
    "    end = Node(0, 0)\n",
    "    visit = []                      # visit 数组用于记录每个节点是第几步被访问到的\n",
    "    queue = []\n",
    "    for i in range(rows):           # 找到迷宫的起始节点和终止节点\n",
    "        visit.append([0] * cols)    # 将visit数组的所有位置都置0\n",
    "        for j in range(cols):\n",
    "            if maze[i][j] == '2':\n",
    "                begin.row = i\n",
    "                begin.col = j\n",
    "            if maze[i][j] == '3':\n",
    "                end.row = i\n",
    "                end.col = j\n",
    "                \n",
    "    queue.append(begin)          # 先将起始节点入队\n",
    "    while len(queue) > 0:\n",
    "        currNode = queue.pop(0)\n",
    "        if currNode.row == end.row and currNode.col == end.col:\n",
    "            print(visit)\n",
    "            print(\"最少需要走 %s 步。\" %(visit[currNode.row][currNode.col]))\n",
    "            break\n",
    "#         print(currNode.row, currNode.col)\n",
    "        for i in range(4):\n",
    "            crow = currNode.row + drow[i]\n",
    "            ccol = currNode.col + dcol[i]\n",
    "            if crow >= 0 and crow < rows:       # 以下三个 if 语句用于判断该节点是否是未访问过的合法节点\n",
    "                if ccol >= 0 and ccol < cols:\n",
    "                    if visit[crow][ccol] != 0:\n",
    "                        continue\n",
    "                    if maze[crow][ccol] == '1' or maze[crow][ccol] == '3':\n",
    "                        queue.append(Node(crow, ccol))\n",
    "                        visit[crow][ccol] = visit[currNode.row][currNode.col] + 1\n",
    "\n",
    "find_load(maze)"
   ]
  },
  {
   "cell_type": "code",
   "execution_count": 19,
   "metadata": {},
   "outputs": [
    {
     "name": "stdout",
     "output_type": "stream",
     "text": [
      "1\n"
     ]
    }
   ],
   "source": [
    "# 找迷宫的最短路径（考虑锁的问题）\n",
    "class Node_with_INFO(Node):\n",
    "    def __init__(self, row, col, status, step):\n",
    "        Node.__init__(self, row, col)\n",
    "        self.status = status\n",
    "        self.step = step\n",
    "\n",
    "node = Node_with_INFO(1,1,1,1)\n",
    "print(node.row)\n",
    "\n",
    "def find_load_with_key(maze):\n",
    "    rows, cols = len(maze), len(maze[0])\n",
    "    drow = [0, 1, 0, -1]\n",
    "    dcol = [1, 0, -1, 0]\n",
    "    begin = Node(0, 0)\n",
    "    end = Node(0, 0)\n",
    "    for i in range(rows):           # 找到迷宫的起始节点和终止节点\n",
    "        for j in range(cols):\n",
    "            if maze[i][j] == '2':\n",
    "                begin.row = i\n",
    "                begin.col = j\n",
    "            if maze[i][j] == '3':\n",
    "                end.row = i\n",
    "                end.col = j"
   ]
  },
  {
   "cell_type": "code",
   "execution_count": null,
   "metadata": {},
   "outputs": [],
   "source": []
  }
 ],
 "metadata": {
  "kernelspec": {
   "display_name": "Python 3",
   "language": "python",
   "name": "python3"
  }
 },
 "nbformat": 4,
 "nbformat_minor": 2
}
