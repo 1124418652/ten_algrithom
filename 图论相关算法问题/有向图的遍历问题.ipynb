{
 "cells": [
  {
   "cell_type": "markdown",
   "metadata": {},
   "source": [
    "## 有向图的遍历\n",
    "对于有向图而言，与无向图的区别是有出度与入度之分，同样可以用深度优先遍历和广度优先遍历来进行图的遍历，且步骤与无向图一样."
   ]
  },
  {
   "cell_type": "code",
   "execution_count": 1,
   "metadata": {},
   "outputs": [],
   "source": [
    "# 以邻接表的形式表示有向图\n",
    "graph1 = {\n",
    "    0:[1,4],\n",
    "    1:[5],\n",
    "    2:[],\n",
    "    3:[1,2],\n",
    "    4:[],\n",
    "    5:[4],\n",
    "    6:[7],\n",
    "    7:[8],\n",
    "    8:[6,9],\n",
    "    9:[7]\n",
    "}"
   ]
  },
  {
   "cell_type": "code",
   "execution_count": 3,
   "metadata": {},
   "outputs": [
    {
     "name": "stdout",
     "output_type": "stream",
     "text": [
      "0\n",
      "1\n",
      "4\n",
      "5\n",
      "2\n",
      "3\n",
      "6\n",
      "7\n",
      "8\n",
      "9\n"
     ]
    }
   ],
   "source": [
    "# BFS\n",
    "def bfs(graph):\n",
    "    num_nodes = len(graph)\n",
    "    visit = [0] * num_nodes\n",
    "    for i in graph.keys():     # 分别以每个节点作为起始节点进行遍历\n",
    "        if visit[i] != 0:\n",
    "            continue\n",
    "        deque = []\n",
    "        deque.append(i)\n",
    "        visit[i] += 1\n",
    "        \n",
    "        while len(deque) > 0:\n",
    "            currNode = deque.pop(0)\n",
    "            print(currNode)\n",
    "            for val in graph[currNode]:\n",
    "                if visit[val] != 0:\n",
    "                    continue\n",
    "                deque.append(val)\n",
    "                visit[val] += 1\n",
    "bfs(graph1)"
   ]
  },
  {
   "cell_type": "code",
   "execution_count": null,
   "metadata": {},
   "outputs": [],
   "source": []
  }
 ],
 "metadata": {
  "kernelspec": {
   "display_name": "Python 3",
   "language": "python",
   "name": "python3"
  },
  "language_info": {
   "codemirror_mode": {
    "name": "ipython",
    "version": 3
   },
   "file_extension": ".py",
   "mimetype": "text/x-python",
   "name": "python",
   "nbconvert_exporter": "python",
   "pygments_lexer": "ipython3",
   "version": "3.6.8"
  }
 },
 "nbformat": 4,
 "nbformat_minor": 2
}
