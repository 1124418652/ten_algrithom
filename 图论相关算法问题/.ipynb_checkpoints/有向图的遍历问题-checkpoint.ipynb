{
 "cells": [
  {
   "cell_type": "markdown",
   "metadata": {},
   "source": [
    "## 有向图的遍历\n",
    "对于有向图而言，与无向图的区别是有出度与入度之分，同样可以用深度优先遍历和广度优先遍历来进行图的遍历，且步骤与无向图一样."
   ]
  },
  {
   "cell_type": "code",
   "execution_count": 1,
   "metadata": {},
   "outputs": [],
   "source": [
    "# 以邻接表的形式表示有向图\n",
    "graph1 = {\n",
    "    0:[1,4],\n",
    "    1:[5],\n",
    "    2:[],\n",
    "    3:[1,2],\n",
    "    4:[],\n",
    "    5:[4],\n",
    "    6:[7],\n",
    "    7:[8],\n",
    "    8:[6,9],\n",
    "    9:[7]\n",
    "}"
   ]
  },
  {
   "cell_type": "code",
   "execution_count": null,
   "metadata": {},
   "outputs": [],
   "source": [
    "# BFS\n",
    "\n",
    "def bfs(graph):\n",
    "    num_nodes = len(graph)\n",
    "    visit = [0] * num_nodes\n",
    "    for i in graph.keys():     # 分别以每个节点作为起始节点进行遍历"
   ]
  }
 ],
 "metadata": {
  "kernelspec": {
   "display_name": "Python 3",
   "language": "python",
   "name": "python3"
  },
  "language_info": {
   "codemirror_mode": {
    "name": "ipython",
    "version": 3
   },
   "file_extension": ".py",
   "mimetype": "text/x-python",
   "name": "python",
   "nbconvert_exporter": "python",
   "pygments_lexer": "ipython3",
   "version": "3.6.8"
  }
 },
 "nbformat": 4,
 "nbformat_minor": 2
}
