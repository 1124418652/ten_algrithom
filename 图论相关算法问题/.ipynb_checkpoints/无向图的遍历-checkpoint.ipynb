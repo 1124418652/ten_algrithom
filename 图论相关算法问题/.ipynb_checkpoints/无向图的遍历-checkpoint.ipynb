{
 "cells": [
  {
   "cell_type": "markdown",
   "metadata": {},
   "source": [
    "## 问题描述\n",
    "无向图的遍历问题：图的结构是无向的，并且所有边的权值都为1，对于无向图的遍历可以有BFS和DFS两种形式"
   ]
  },
  {
   "cell_type": "code",
   "execution_count": 9,
   "metadata": {},
   "outputs": [],
   "source": [
    "# 邻接矩阵的形式表示\n",
    "#         0 1 2 3 4 5 6 7 8 9\n",
    "graph = [[0,1,0,0,1,0,1,1,0,0],  # 0\n",
    "         [1,0,1,1,1,0,0,0,0,1],  # 1\n",
    "         [0,1,0,0,0,0,0,0,1,0],  # 2\n",
    "         [0,1,0,0,0,1,0,0,0,0],  # 3\n",
    "         [1,1,0,0,0,0,0,0,0,0],  # 4\n",
    "         [0,0,0,1,0,0,0,0,0,0],  # 5\n",
    "         [1,0,0,0,0,0,0,0,0,0],  # 6\n",
    "         [1,0,0,0,0,0,0,0,0,0],  # 7\n",
    "         [0,0,1,0,0,0,0,0,0,0],  # 8\n",
    "         [0,1,0,0,0,0,0,0,0,0]]  # 9\n",
    "\n",
    "# 邻接表表示\n",
    "graph1 = {\n",
    "    0:[1,4],\n",
    "    1:[0,3,5],\n",
    "    2:[4],\n",
    "    3:[1,4],\n",
    "    4:[0,2,3],\n",
    "    5:[1],\n",
    "    6:[7,9],\n",
    "    7:[6,8,9],\n",
    "    8:[7],\n",
    "    9:[6,7]\n",
    "}"
   ]
  },
  {
   "cell_type": "code",
   "execution_count": 10,
   "metadata": {},
   "outputs": [
    {
     "name": "stdout",
     "output_type": "stream",
     "text": [
      "0\n",
      "1\n",
      "4\n",
      "3\n",
      "5\n",
      "2\n",
      "6\n",
      "7\n",
      "9\n",
      "8\n"
     ]
    }
   ],
   "source": [
    "\"\"\" \n",
    "BFS（breadth first search） 广度优先搜索，使用队列作为辅助结构\n",
    "并且需要一个与节点数等长的辅助数组 visit 来记录该节点是否已经被访问到过\n",
    "\"\"\"\n",
    "\n",
    "def bfs(graph):\n",
    "    num_nodes = len(graph)  # 图中总共的节点数\n",
    "    visit = [0] * num_nodes  # visit 数组记录每个节点是否已经被访问到过，0表示没有被访问\n",
    "    \n",
    "    for begin_node in graph.keys():     # 因为图可能是不连通的，所以需要以每个节点为起始节点分别开始搜索\n",
    "        \n",
    "        if visit[begin_node] != 0:      # 如果起始节点已经被访问过了，直接跳过\n",
    "            continue      \n",
    "        \n",
    "        deque = []       # 使用队列作为辅助结构\n",
    "        deque.append(begin_node)\n",
    "        visit[begin_node] += 1\n",
    "        \n",
    "        while len(deque) > 0:\n",
    "            currNode = deque.pop(0)     # 将队首节点出队\n",
    "            print(currNode)\n",
    "            for val in graph[currNode]: # 将该节点中符合条件的子节点入队\n",
    "                if visit[val] != 0:\n",
    "                    continue\n",
    "                deque.append(val) \n",
    "                visit[val] += 1         # 更新该节点的访问状态\n",
    "bfs(graph1)"
   ]
  },
  {
   "cell_type": "code",
   "execution_count": 13,
   "metadata": {},
   "outputs": [
    {
     "name": "stdout",
     "output_type": "stream",
     "text": [
      "0\n",
      "4\n",
      "3\n",
      "2\n",
      "1\n",
      "5\n",
      "6\n",
      "9\n",
      "7\n",
      "8\n"
     ]
    }
   ],
   "source": [
    "\"\"\"\n",
    "DFS（depth first search）深度优先搜索，需要借助辅助结构栈来完成深度优先的效果，\n",
    "取出栈顶元素进行访问，然后将该元素的所有未访问子节点同时入栈，如此往复，直到\n",
    "栈为空。\n",
    "同样需要一个与节点数等长的辅助数组 visit 来记录该节点是否已经被访问到过\n",
    "\"\"\"\n",
    "\n",
    "def dfs(graph):\n",
    "    num_nodes = len(graph)\n",
    "    visit = [0] * num_nodes\n",
    "    \n",
    "    for begin_node in graph.keys():\n",
    "        if visit[begin_node] != 0:\n",
    "            continue\n",
    "        \n",
    "        stack = []\n",
    "        stack.append(begin_node)\n",
    "        visit[begin_node] += 1\n",
    "        \n",
    "        while len(stack) > 0:\n",
    "            currNode = stack.pop()      # 取出list的尾元素，模拟出栈操作\n",
    "            print(currNode)\n",
    "            \n",
    "            for val in graph[currNode]:\n",
    "                if visit[val] == 0:\n",
    "                    stack.append(val)\n",
    "                    visit[val] += 1\n",
    "\n",
    "dfs(graph1)"
   ]
  },
  {
   "cell_type": "code",
   "execution_count": null,
   "metadata": {},
   "outputs": [],
   "source": []
  }
 ],
 "metadata": {
  "kernelspec": {
   "display_name": "Python 3",
   "language": "python",
   "name": "python3"
  },
  "language_info": {
   "codemirror_mode": {
    "name": "ipython",
    "version": 3
   },
   "file_extension": ".py",
   "mimetype": "text/x-python",
   "name": "python",
   "nbconvert_exporter": "python",
   "pygments_lexer": "ipython3",
   "version": "3.6.8"
  }
 },
 "nbformat": 4,
 "nbformat_minor": 2
}
