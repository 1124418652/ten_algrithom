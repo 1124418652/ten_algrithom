{
 "cells": [
  {
   "cell_type": "markdown",
   "metadata": {},
   "source": [
    "# 问题描述\n",
    "### LCS 的定义：\n",
    "Longest Common Subsequence，最长公共子序列，即两个序列 X 和 Y 的公共子序列中，长度最长的那个，并且公共子序列不同于公共字串，公共子序列可以是不连续的，但是前后位置不变。  \n",
    "### LCS 的意义：\n",
    "求两个序列中最长的公共子序列的算法，广泛的应用在图形相似处理、媒体流的相似比较、计算生物学方面。生物学家常常用该算法进行基因序列比对，由此推测序列的结构、功能和演化过程。  \n",
    "LCS 可以描述两段文字之间的“相似度”，即他们的雷同程度，从而能够用来辨别抄袭。另一方面，对一段文字进行修改之后，计算改动前后文字的最长公共子序列，将除此子序列外的部分提取出来，这种方法半段修改的部分，往往十分准确。简而言之，百度知道、百度百科都用得上。\n"
   ]
  },
  {
   "cell_type": "markdown",
   "metadata": {},
   "source": [
    "### 一、暴力求解：穷举法\n",
    "1. 假定字符串 X，Y 的长度分别为 m，n；\n",
    "2. X 的一个子序列下标序列为 {1，2，3，...，m}，因此 X 共有 $2^m$ 个子序列；同理，Y 有 $2^n$ 个子序列。\n",
    "3. 从而穷举法需要指数时间：$O(2^m\\cdot 2^n)$，显然不可取"
   ]
  },
  {
   "cell_type": "markdown",
   "metadata": {},
   "source": [
    "### 二、动态规划法\n",
    "**将大规模的问题转换为小规模的问题：**\n",
    "\\begin{equation}\n",
    "LCS(X_m,Y_n)=\n",
    "\\begin{cases}\n",
    "\\begin{aligned}\n",
    "LCS(X_{m-1},Y_{n-1})+x_m,\\quad &当x_m = y_n\\\\\n",
    "max\\{LCS(X_{m-1},Y_{n}),LCS(X_m,Y_{n-1})\\},\\quad &当x_m \\neq y_n\n",
    "\\end{aligned}\n",
    "\\end{cases}\n",
    "\\end{equation}\n",
    "其中$X_m，Y_n$分别表示两个取自$X，Y$的前缀序列，$x_m，y_n$分别表示$X,Y$中的第m和n个元素。  \n",
    "$LCS(X_m,Y_n)$表示最长公共子序列。  \n",
    "\n",
    "**算法思想：**  \n",
    "使用二维数组 C[m,n]  \n",
    "C[i,j]记录序列$X_i$和$Y_j$的最长公共子序列的长度。\n",
    "\\begin{equation}\n",
    "c(i, j) = \n",
    "\\begin{cases}\n",
    "\\begin{aligned}\n",
    "0, \\quad &当i=0或者j=0\\\\\n",
    "c(i-1,j-1)+1, \\quad &当i>0,j>0,且x_i = y_j\\\\\n",
    "\\end{aligned}\n",
    "\\end{cases}\n",
    "\\end{equation}"
   ]
  },
  {
   "cell_type": "code",
   "execution_count": null,
   "metadata": {},
   "outputs": [],
   "source": []
  }
 ],
 "metadata": {
  "kernelspec": {
   "display_name": "Python 3",
   "language": "python",
   "name": "python3"
  },
  "language_info": {
   "codemirror_mode": {
    "name": "ipython",
    "version": 3
   },
   "file_extension": ".py",
   "mimetype": "text/x-python",
   "name": "python",
   "nbconvert_exporter": "python",
   "pygments_lexer": "ipython3",
   "version": "3.6.8"
  }
 },
 "nbformat": 4,
 "nbformat_minor": 2
}
