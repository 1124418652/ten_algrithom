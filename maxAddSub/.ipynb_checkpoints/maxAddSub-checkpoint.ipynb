{
 "cells": [
  {
   "cell_type": "markdown",
   "metadata": {},
   "source": [
    "# 问题描述\n",
    "已知一个数组 A[0,...,n-1]，求 A 的一个连续子数组，使得该子数组的和最大。  \n",
    "例如：  \n",
    "数组：1，-2，3，10，-4，7，2，-5  \n",
    "最大子数组为：3，10，-4，7，2  "
   ]
  },
  {
   "cell_type": "markdown",
   "metadata": {},
   "source": [
    "### 解法一：暴力法\n",
    "用 i, j 从数组 A 中截出子数组 A[i~j]，直接求解子序列的和，记录最大值  \n",
    "时间复杂度为: $O(n^3)$"
   ]
  },
  {
   "cell_type": "code",
   "execution_count": 1,
   "metadata": {},
   "outputs": [],
   "source": [
    "def maxAddSub_violent(a):\n",
    "\t\"\"\"\n",
    "\t使用暴力法求解序列中累加和最大的子序列。\n",
    "\n",
    "\tArguments:\n",
    "\ta -- 输入的一维数组\n",
    "\n",
    "\tReturns:\n",
    "\tmax_sum_array -- 从输入数组中选出的累加和最大的连续数组\n",
    "\t\"\"\"\n",
    "\n",
    "\tlength = len(a)\n",
    "\tmax_sum_array = a[0]\n",
    "\tcurr_sum_array = 0\n",
    "\n",
    "\tfor i in range(0, length):\n",
    "\t\tfor j in range(i, length):\n",
    "\t\t\tcurr_sum_array = 0\n",
    "\t\t\t\n",
    "\t\t\tfor k in range(i, j + 1):\n",
    "\t\t\t\tcurr_sum_array += a[k]\n",
    "\t\t\tif curr_sum_array >= max_sum_array:\n",
    "\t\t\t\tmax_sum_array = curr_sum_array\n",
    "\n",
    "\treturn max_sum_array "
   ]
  },
  {
   "cell_type": "markdown",
   "metadata": {},
   "source": [
    "---\n",
    "### 解法二：分治法\n",
    "分治法的思路是：把数组从中间分开，那么最大子数组要么完全在左半边数组，要么完全在右半边数组，要么跨立在分界点上。  \n",
    "1. 完全在左数组、右数组时，用递归去解决，将左数组或右数组重新当成一个新的完整数组去求解最大子数组。  \n",
    "2. 跨立在分界点上：实际上是左数组的最大后缀和右数组的最大前缀之和。因此可以分别从分界点向前扫，向后扫。  \n"
   ]
  },
  {
   "cell_type": "code",
   "execution_count": 2,
   "metadata": {},
   "outputs": [],
   "source": [
    "def maxAddSub_divide(a, begin, end):\n",
    "\t\"\"\"\n",
    "\t使用分治法求解序列中累加和最大的子序列。\n",
    "    \n",
    "    Arguments:\n",
    "\ta -- 输入的一维数组，完整的数组\n",
    "\tbegin -- 输入数组的起始位置\n",
    "\tend -- 输入数组的结束位置，n-1\n",
    "\n",
    "\tReturns:\n",
    "\tmax_sum_array -- 从输入数组中选出的累加和最大的连续数组\n",
    "\t\"\"\"\n",
    "\n",
    "\tif end == begin:\n",
    "\t\treturn a[begin]\n",
    "\n",
    "\tmiddle = (begin + end) // 2   # 求解输入的部分序列的中间位置\n",
    "\tm1 = maxAddSub_divide(a, begin, middle)     # 递归求解左数组中的最大累加和\n",
    "\tm2 = maxAddSub_divide(a, middle + 1, end)   # 递归求解右数组中的最大累加和\n",
    "\n",
    "\t# 求左侧数组的最大后缀\n",
    "\tleft_max = a[middle]\n",
    "\ttmp = a[middle]        # 用于计算累加的临时变量\n",
    "\tfor i in range(middle - 1, begin -1, -1):  # 从后往前遍历，每走一步判断一次是否为最大\n",
    "\t\ttmp += a[i]\n",
    "\t\tleft_max = max(left_max, tmp)\n",
    "\n",
    "\t# 求右侧数组的最大前缀\n",
    "\tright_max = a[middle + 1]\n",
    "\ttmp = a[middle + 1]\n",
    "\tfor i in range(middle + 2, end + 1):  # 注意要能取到 end，所以尾为 end + 1\n",
    "\t\ttmp += a[i]\n",
    "\t\tright_max = max(right_max, tmp)\n",
    "\n",
    "\t# 计算跨立分界点时的最大累加和 = left_max + right_max\n",
    "\tm3 = left_max + right_max\n",
    "\treturn max(m1, m2, m3)    # 返回当前递归层的最大累加和"
   ]
  },
  {
   "cell_type": "markdown",
   "metadata": {},
   "source": [
    "**时间复杂度分析：**  \n",
    "从单层的递归来看，时间复杂度由三部分组成：  \n",
    "1. 求解左数组最大累加和 $T(\\frac n2)$\n",
    "2. 求解右数组最大累加和 $T(\\frac n2)$\n",
    "3. 求解跨立分界点时的最大累加和 $c\\times n,\\quad c是常数$  \n",
    "所以时间复杂度的递推表示为：$T(n)=2T(\\frac n2)+cn$  \n",
    "\n",
    "当$n=2^k$时，有：\n",
    "$$\n",
    "\\begin{aligned}\n",
    "T(n)&=2T(\\frac n2)+cn\\\\\n",
    "&=2(2T(\\frac n4)+c\\frac n2)+cn=4T(\\frac n4)+2cn\\\\\n",
    "&=4(2T(\\frac n8)+c\\frac n4)+2cn=8T(\\frac n8)+3cn\\\\\n",
    "&=\\ ......\\\\\n",
    "&=nT(1)+log_2(n)\\times c\\times n\n",
    "\\end{aligned}\n",
    "$$\n",
    "所以时间复杂度为：$O(nlogn)$"
   ]
  },
  {
   "cell_type": "markdown",
   "metadata": {},
   "source": [
    "---\n",
    "### 解法三：分析法\n",
    "定义：\n",
    "前缀和：p[i] = a[0] + a[1] + a[2] + ... + a[i]  \n",
    "子序列和：s[i~j] = p[j] - p[i]（定义 p[-1] = 0）  \n",
    "**算法过程：**"
   ]
  },
  {
   "cell_type": "code",
   "execution_count": 4,
   "metadata": {},
   "outputs": [],
   "source": [
    "def maxAddSub_divide(a):\n",
    "    # a 为输入的数组\n",
    "    \n",
    "    p[0] = a[0]\n",
    "    for i in range(1, len(a) - 1):\n",
    "        p[i] = p[i - 1] + a[i]          # 记录前缀的累加和\n",
    "    \n",
    "    m = 0                   # m 用于记录前缀和的最小值，初始值为0\n",
    "    max_sub_sum = a[0]      # 记录子序列和的最大值\n",
    "    for i in range(len(a) - 1):\n",
    "        if p[i] < m:\n",
    "            m = p[i]\n",
    "        if p[i] - m > max_sub_sum:\n",
    "            max_sub_sum = p[i] - m\n",
    "        \n",
    "    return max_sub_sum"
   ]
  },
  {
   "cell_type": "markdown",
   "metadata": {},
   "source": [
    "**时间复杂度分析：**  \n",
    "在算法中有两个循环，但不是嵌套循环，所以时间复杂度为：$O(n)$\n",
    "\n",
    "---"
   ]
  },
  {
   "cell_type": "markdown",
   "metadata": {},
   "source": [
    "### 解法四：动态规划法\n",
    "**算法思想：**  \n",
    "定义：  \n",
    "前缀和：p[i] = a[0] + a[1] + a[2] + ... + a[i]  \n",
    "m[i] 为第 i 个元素之前的最大子序列和，m[0] = a[0]  \n",
    "则有：  \n",
    "m[i + 1] = max{ m[i]， m[i] + a[i + 1] } ，这在一次遍历中就可以求出"
   ]
  },
  {
   "cell_type": "code",
   "execution_count": null,
   "metadata": {},
   "outputs": [],
   "source": [
    "def maxAddSub_divide(a):\n",
    "    \n",
    "    result = a[0]\n",
    "    m = a[0]\n",
    "    for i in range(1, len(a)):\n",
    "        if m > 0:\n",
    "            m += a[i]\n",
    "        else:\n",
    "            m = a[i]\n",
    "        if m > result:\n",
    "            result = m\n",
    "    return result"
   ]
  }
 ],
 "metadata": {
  "kernelspec": {
   "display_name": "Python 3",
   "language": "python",
   "name": "python3"
  },
  "language_info": {
   "codemirror_mode": {
    "name": "ipython",
    "version": 3
   },
   "file_extension": ".py",
   "mimetype": "text/x-python",
   "name": "python",
   "nbconvert_exporter": "python",
   "pygments_lexer": "ipython3",
   "version": "3.6.8"
  }
 },
 "nbformat": 4,
 "nbformat_minor": 2
}
